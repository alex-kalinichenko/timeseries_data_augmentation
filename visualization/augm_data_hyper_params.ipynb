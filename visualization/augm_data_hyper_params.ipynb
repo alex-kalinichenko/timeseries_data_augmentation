{
 "cells": [
  {
   "cell_type": "code",
   "execution_count": 1,
   "id": "65d6f505-6d64-475b-a785-8db87ffe1085",
   "metadata": {
    "tags": []
   },
   "outputs": [],
   "source": [
    "%load_ext autoreload\n",
    "%autoreload 2\n",
    "\n",
    "import pandas as pd\n",
    "import os\n",
    "import sys\n",
    "\n",
    "import numpy as np\n",
    "import seaborn as sns\n",
    "import matplotlib.pyplot as plt\n",
    "\n",
    "from datetime import datetime, timedelta\n",
    "from sklearn.tree import DecisionTreeRegressor\n",
    "from sklearn.ensemble import RandomForestRegressor\n",
    "\n",
    "sys.path.insert(0, os.path.join(\"..\", \"src\"))\n",
    "sys.path.insert(0, os.path.join(\"..\", \"examples\"))\n",
    "\n",
    "from augmentation import TransformData\n",
    "from data_generators import get_data_from_file\n",
    "from tools import experiment, run_model_for_raw_and_augmented_data, smape\n",
    "\n",
    "import warnings\n",
    "\n",
    "warnings.filterwarnings(\"ignore\")"
   ]
  },
  {
   "cell_type": "code",
   "execution_count": null,
   "id": "d3828c77-72c1-4cb2-96f7-83da1b072a8a",
   "metadata": {},
   "outputs": [
    {
     "name": "stdout",
     "output_type": "stream",
     "text": [
      "processing experiment 0...\n",
      "processing experiment 1...\n"
     ]
    }
   ],
   "source": [
    "model = RandomForestRegressor(n_estimators=200, random_state=42)\n",
    "\n",
    "nums = [\n",
    "    \"678\",\n",
    "    \"679\",\n",
    "    \"680\",\n",
    "    \"710\",\n",
    "    \"801\",\n",
    "    \"802\",\n",
    "]  # , \"818\", \"819\", \"905\"] 3 скважины оставим на тест\n",
    "\n",
    "experiments = []\n",
    "\n",
    "for num in nums:\n",
    "    filename = os.path.join(\"..\", \"examples\", \"data\", f\"df_{num}.csv\")\n",
    "    exp = get_data_from_file(filename)\n",
    "    experiments.append(exp)\n",
    "\n",
    "experiments = pd.DataFrame(experiments, columns=[\"df\", \"train_test_split\"])\n",
    "\n",
    "N_possible_values = range(6, 30, 2)\n",
    "K_possible_values = range(6, 22, 2)\n",
    "\n",
    "res = []\n",
    "for i, row in experiments.iterrows():\n",
    "    print\n",
    "    df, train_test_split = row[\"df\"], row[\"train_test_split\"]\n",
    "    print(f\"processing experiment {i}...\")\n",
    "    pivot_result_table = []\n",
    "    for n in N_possible_values:\n",
    "        for k in K_possible_values:\n",
    "            result_raw_data, result_augmented_data = experiment(\n",
    "                model=model,\n",
    "                df=df,\n",
    "                train_test_split=train_test_split,\n",
    "                N=n,\n",
    "                K=k,\n",
    "                tabgan=False,\n",
    "            )\n",
    "\n",
    "            pivot_result_table.append([i, n, k, result_raw_data, result_augmented_data])\n",
    "\n",
    "    pivot_result_table = pd.DataFrame(\n",
    "        data=pivot_result_table,\n",
    "        columns=[\"experiment\", \"N\", \"K\", \"raw_data_mape\", \"augmented_data_mape\"],\n",
    "    )\n",
    "\n",
    "    pivot_result_table[[\"raw_data_mape\", \"augmented_data_mape\"]] /= pivot_result_table[\n",
    "        [\"raw_data_mape\", \"augmented_data_mape\"]\n",
    "    ].mean()\n",
    "\n",
    "    pivot_result_table = pivot_result_table.sort_values(\"augmented_data_mape\")\n",
    "    pivot_result_table[\"exp rang\"] = range(len(pivot_result_table))\n",
    "    res.append(pivot_result_table)\n",
    "\n",
    "res = pd.concat(res)\n",
    "print(\"done\")"
   ]
  },
  {
   "cell_type": "code",
   "execution_count": null,
   "id": "cca7248a-5c16-4651-9bd1-41ef0bafc2d5",
   "metadata": {},
   "outputs": [],
   "source": [
    "res[\"n\"] = res[\"N\"].astype(int).copy()\n",
    "res[\"k\"] = res[\"K\"].astype(int).copy()\n",
    "res = res.groupby([\"N\", \"K\"]).mean()"
   ]
  },
  {
   "cell_type": "code",
   "execution_count": null,
   "id": "c486b3a5-3922-4e16-bfa3-0601ac154277",
   "metadata": {},
   "outputs": [],
   "source": [
    "piv = res.pivot(index=\"n\", columns=\"k\", values=\"exp rang\")\n",
    "plt.figure(figsize=(12, 8))\n",
    "sns.heatmap(piv, annot=True)"
   ]
  },
  {
   "cell_type": "code",
   "execution_count": null,
   "id": "7806d1e8-c462-42ec-88ad-d0428c949223",
   "metadata": {},
   "outputs": [],
   "source": [
    "# вибираем\n",
    "N_best = 10\n",
    "K_best = 8"
   ]
  },
  {
   "cell_type": "code",
   "execution_count": null,
   "id": "39b4cfa9-8ce2-4149-92ed-edb4a75b1128",
   "metadata": {},
   "outputs": [],
   "source": [
    "experiments = []\n",
    "for num in [\"818\", \"819\", \"905\"]:\n",
    "    filename = os.path.join(\"..\", \"examples\", \"data\", f\"df_{num}.csv\")\n",
    "    exp = get_data_from_file(filename)\n",
    "    exp[0][\"num\"] = num\n",
    "    experiments.append(exp)\n",
    "\n",
    "experiments = pd.DataFrame(experiments, columns=[\"df\", \"train_test_split\"])"
   ]
  },
  {
   "cell_type": "code",
   "execution_count": null,
   "id": "d8d06d79-4e98-404e-8c9c-1332e5642ec9",
   "metadata": {},
   "outputs": [],
   "source": [
    "experiments"
   ]
  },
  {
   "cell_type": "code",
   "execution_count": null,
   "id": "50af7879-f4d6-4dbf-9aa7-e5f73b479d98",
   "metadata": {},
   "outputs": [],
   "source": [
    "res = []\n",
    "rr = []\n",
    "for i, row in experiments.iterrows():\n",
    "    print(f\"experiment {i} in processing...\")\n",
    "    df, train_test_split = row[\"df\"], row[\"train_test_split\"]\n",
    "\n",
    "    e = run_model_for_raw_and_augmented_data(\n",
    "        model, df, train_test_split, N=N_best, K=K_best, tabgan=False\n",
    "    )\n",
    "\n",
    "    e = e[~np.isnan(e.y)]\n",
    "    e[\"exp\"] = i\n",
    "    rr.append(e)\n",
    "    result_raw_data = smape(e.y, e.pred_raw)\n",
    "    result_augmented_data = smape(e.y, e.pred_augm)\n",
    "\n",
    "    res.append([N_best, K_best, result_raw_data, result_augmented_data])\n",
    "\n",
    "res = pd.DataFrame(\n",
    "    data=res,\n",
    "    columns=[\"N\", \"K\", \"raw_data_mape\", \"augmented_data_mape\"],\n",
    ")\n",
    "rr = pd.concat(rr)\n",
    "res\n",
    "print(\"done\")"
   ]
  },
  {
   "cell_type": "code",
   "execution_count": null,
   "id": "2fc2d48f-cdea-4c22-ba27-d89d8ed63297",
   "metadata": {},
   "outputs": [],
   "source": [
    "res"
   ]
  },
  {
   "cell_type": "code",
   "execution_count": null,
   "id": "313011e3-6367-4469-a6f7-5053195d6b65",
   "metadata": {},
   "outputs": [],
   "source": [
    "for i in rr.exp.unique():\n",
    "    d = rr[rr.exp == i]\n",
    "    plt.figure(figsize=(15, 6))\n",
    "    plt.plot(d.time, d.pred_raw, \"o\", markersize=8, label=\"pred\")\n",
    "    plt.plot(d.time, d.pred_augm, \"o\", markersize=8, label=\"pred_augm\")\n",
    "    plt.plot(d.time, d.y, \"v\", markersize=12, label=\"y\")\n",
    "    plt.legend()\n",
    "    plt.show()"
   ]
  },
  {
   "cell_type": "markdown",
   "id": "461b0e9f-93d9-46e4-9f29-6d94a6b93b24",
   "metadata": {},
   "source": [
    "## Проведем подбор гиперпараметров для tabgan "
   ]
  },
  {
   "cell_type": "code",
   "execution_count": null,
   "id": "bb1f2724-d093-4549-8ae5-914b78ab6d09",
   "metadata": {
    "tags": []
   },
   "outputs": [],
   "source": [
    "model = RandomForestRegressor(n_estimators=200)\n",
    "\n",
    "nums = [\"678\", \"679\", \"680\", \"710\", \"801\", \"802\", \"818\", \"819\", \"905\"]\n",
    "\n",
    "experiments = []\n",
    "\n",
    "for num in nums:\n",
    "    filename = os.path.join(\"..\", \"examples\", \"data\", f\"df_{num}.csv\")\n",
    "    exp = get_data_from_file(filename)\n",
    "    experiments.append(exp)\n",
    "\n",
    "experiments = pd.DataFrame(experiments, columns=[\"df\", \"train_test_split\"])\n",
    "\n",
    "N_possible_values = range(6, 30, 2)\n",
    "K_possible_values = range(6, 22, 2)\n",
    "\n",
    "res = []\n",
    "for i, row in experiments.iterrows():\n",
    "    df, train_test_split = row[\"df\"], row[\"train_test_split\"]\n",
    "    print(f\"processing experiment {i}...\")\n",
    "    pivot_result_table = []\n",
    "    for n in N_possible_values:\n",
    "        for k in K_possible_values:\n",
    "            result_raw_data, result_augmented_data = experiment(\n",
    "                model=model,\n",
    "                df=df,\n",
    "                train_test_split=train_test_split,\n",
    "                N=n,\n",
    "                K=k,\n",
    "                augm=False,\n",
    "                tabgan=True,\n",
    "            )\n",
    "\n",
    "            pivot_result_table.append([i, n, k, result_raw_data, result_augmented_data])\n",
    "\n",
    "    pivot_result_table = pd.DataFrame(\n",
    "        data=pivot_result_table,\n",
    "        columns=[\"experiment\", \"N\", \"K\", \"raw_data_mape\", \"augmented_data_mape\"],\n",
    "    )\n",
    "\n",
    "    pivot_result_table[[\"raw_data_mape\", \"augmented_data_mape\"]] /= pivot_result_table[\n",
    "        [\"raw_data_mape\", \"augmented_data_mape\"]\n",
    "    ].mean()\n",
    "\n",
    "    pivot_result_table = pivot_result_table.sort_values(\"augmented_data_mape\")\n",
    "    pivot_result_table[\"exp rang\"] = range(len(pivot_result_table))\n",
    "    res.append(pivot_result_table)\n",
    "\n",
    "res = pd.concat(res)\n",
    "print(\"done\")"
   ]
  },
  {
   "cell_type": "code",
   "execution_count": null,
   "id": "4c6ea8f2-6b08-40df-9c03-7aae8aa3cf94",
   "metadata": {},
   "outputs": [],
   "source": []
  }
 ],
 "metadata": {
  "kernelspec": {
   "display_name": "Python 3 (ipykernel)",
   "language": "python",
   "name": "python3"
  },
  "language_info": {
   "codemirror_mode": {
    "name": "ipython",
    "version": 3
   },
   "file_extension": ".py",
   "mimetype": "text/x-python",
   "name": "python",
   "nbconvert_exporter": "python",
   "pygments_lexer": "ipython3",
   "version": "3.8.13"
  }
 },
 "nbformat": 4,
 "nbformat_minor": 5
}
